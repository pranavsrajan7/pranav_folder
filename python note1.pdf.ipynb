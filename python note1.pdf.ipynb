{
 "cells": [
  {
   "cell_type": "markdown",
   "metadata": {
    "id": "2rYVjn_Eo_RX"
   },
   "source": [
    "# 1: HOW TO INSTALL PYTHON OR ANACONDA"
   ]
  },
  {
   "cell_type": "markdown",
   "metadata": {
    "id": "BkWDKiVmo_Rk"
   },
   "source": [
    "TO INSTALL PYTHON:\n",
    "    DOWNLOAD FROM www.python.org\n",
    "TO INSTALL ANACONDA:\n",
    "    DOWNLOAD FROM https://www.anaconda.com/products/individual\n"
   ]
  },
  {
   "cell_type": "markdown",
   "metadata": {
    "id": "qEWfxHTFo_Rm"
   },
   "source": [
    "# 2:JUPYTER NOTEBOOK- HOW IT WORKS"
   ]
  },
  {
   "cell_type": "markdown",
   "metadata": {
    "id": "UEX8zT09o_Rn"
   },
   "source": [
    "pip install jupyter OR pip3 install jupyter OR python -m pip install jupyter OR python -m pip3 install jupyter"
   ]
  },
  {
   "cell_type": "code",
   "execution_count": null,
   "metadata": {
    "id": "ZPxl9B79o_Ro",
    "outputId": "3c1e7bc6-286b-4da7-a3bc-ea88808eab5f"
   },
   "outputs": [
    {
     "name": "stdout",
     "output_type": "stream",
     "text": [
      "Hello World of Joy\n"
     ]
    }
   ],
   "source": [
    "print(\"Hello World of Joy\")"
   ]
  },
  {
   "cell_type": "code",
   "execution_count": null,
   "metadata": {
    "id": "6BnEYHQoo_Rs",
    "outputId": "6ec2204b-45f5-4881-8baf-9107e2ec2a5d"
   },
   "outputs": [
    {
     "data": {
      "text/plain": [
       "12"
      ]
     },
     "execution_count": 15,
     "metadata": {},
     "output_type": "execute_result"
    }
   ],
   "source": [
    "6+6"
   ]
  },
  {
   "cell_type": "code",
   "execution_count": null,
   "metadata": {
    "id": "LjZMkjN_o_Rt",
    "outputId": "551c2424-6fcc-4a20-b61f-8ae8f409f57f"
   },
   "outputs": [
    {
     "data": {
      "text/plain": [
       "550"
      ]
     },
     "execution_count": 16,
     "metadata": {},
     "output_type": "execute_result"
    }
   ],
   "source": [
    "55*10"
   ]
  },
  {
   "cell_type": "code",
   "execution_count": null,
   "metadata": {
    "id": "y7djDlzso_Rv",
    "outputId": "6703874a-9887-44bd-9cd5-f6aabb8d609a"
   },
   "outputs": [
    {
     "data": {
      "text/plain": [
       "11.0"
      ]
     },
     "execution_count": 17,
     "metadata": {},
     "output_type": "execute_result"
    }
   ],
   "source": [
    "66/6"
   ]
  },
  {
   "cell_type": "code",
   "execution_count": null,
   "metadata": {
    "id": "7GEPtfBIo_Ry"
   },
   "outputs": [],
   "source": [
    "44.4/2"
   ]
  },
  {
   "cell_type": "markdown",
   "metadata": {
    "id": "smv7vUd2o_R1"
   },
   "source": [
    "# 3: What is a MODULE?"
   ]
  },
  {
   "cell_type": "markdown",
   "metadata": {
    "id": "F4BRrSeJo_R2"
   },
   "source": [
    "![](module.jpg)"
   ]
  },
  {
   "cell_type": "code",
   "execution_count": null,
   "metadata": {
    "id": "pzStIg4-o_R3"
   },
   "outputs": [],
   "source": [
    "import turtle as t"
   ]
  },
  {
   "cell_type": "markdown",
   "metadata": {
    "id": "rS-xqR-8o_R4"
   },
   "source": [
    "DRAWING A SQUARE"
   ]
  },
  {
   "cell_type": "code",
   "execution_count": null,
   "metadata": {
    "id": "HktYfB8Uo_R4"
   },
   "outputs": [],
   "source": [
    "t.forward(100)\n",
    "t.left(90)\n",
    "t.forward(100)\n",
    "t.left(90)\n",
    "t.forward(100)\n",
    "t.left(90)\n",
    "t.forward(100)"
   ]
  },
  {
   "cell_type": "markdown",
   "metadata": {
    "id": "O7b6oWKco_R5"
   },
   "source": [
    "DRAWING A TRIANGLE"
   ]
  },
  {
   "cell_type": "code",
   "execution_count": 2,
   "metadata": {
    "id": "yM3gIUKgo_R6"
   },
   "outputs": [],
   "source": [
    "import turtle as jack"
   ]
  },
  {
   "cell_type": "code",
   "execution_count": 3,
   "metadata": {
    "colab": {
     "base_uri": "https://localhost:8080/",
     "height": 235
    },
    "executionInfo": {
     "elapsed": 7,
     "status": "error",
     "timestamp": 1671531443019,
     "user": {
      "displayName": "Lakshmi Narayan",
      "userId": "17715214532754939642"
     },
     "user_tz": -330
    },
    "id": "EloYeC1Co_R7",
    "outputId": "68877eb2-fb56-42e8-fc99-3228f7566c3f"
   },
   "outputs": [],
   "source": [
    "jack.color(\"indigo\")  #SETTING COLOR INDIGO\n",
    "jack.pensize(5)       #SETTING THICKNESS OF DRAWING\n",
    "jack.forward(150)\n",
    "jack.right(120)\n",
    "jack.forward(150)\n",
    "jack.right(120)\n",
    "jack.forward(150)"
   ]
  },
  {
   "cell_type": "markdown",
   "metadata": {
    "id": "VBO6wpFXo_R7"
   },
   "source": [
    "Module: Another Example"
   ]
  },
  {
   "cell_type": "code",
   "execution_count": null,
   "metadata": {
    "id": "douml4cyo_R8",
    "outputId": "7a112c77-2f38-437c-bf27-0c291a667623"
   },
   "outputs": [
    {
     "data": {
      "text/plain": [
       "55"
      ]
     },
     "execution_count": 10,
     "metadata": {},
     "output_type": "execute_result"
    }
   ],
   "source": [
    "import random as rd\n",
    "rd.randint(1,100)"
   ]
  },
  {
   "cell_type": "markdown",
   "metadata": {
    "id": "zowWra4xo_R9"
   },
   "source": [
    "![](random.jpeg)"
   ]
  },
  {
   "cell_type": "markdown",
   "metadata": {
    "id": "CeWOCza3o_R9"
   },
   "source": [
    "Practice:\n",
    "    \n",
    "1. Draw a Square with 200 unit size for each sides\n",
    "2. Draw a Rectangle in blue color with Length =300 and Breadth =100 \n",
    "(Hint turtle.color(\"blue\"))\n",
    "3. There are 20 students in a class room, their ID card numbers are 501,502.....upto 520.\n",
    "Principal announced that one of them can visit an exhibition. \n",
    "For that teacher need to select a student in random. How to do it by using coding."
   ]
  },
  {
   "cell_type": "markdown",
   "metadata": {
    "id": "rVeMwesTo_R-"
   },
   "source": [
    "# 4: PYTHON PY FILES"
   ]
  },
  {
   "cell_type": "markdown",
   "metadata": {
    "id": "i3Fhp1s7o_SE"
   },
   "source": [
    "![](files.jpg)"
   ]
  },
  {
   "cell_type": "code",
   "execution_count": null,
   "metadata": {
    "id": "eMuTnW4Co_SG"
   },
   "outputs": [],
   "source": [
    "import turtle as ben\n",
    "ben.color(\"brown\")\n",
    "ben.fd(100)\n",
    "ben.lt(90)\n",
    "ben.fd(100)\n",
    "ben.lt(90)\n",
    "ben.fd(100)\n",
    "ben.lt(90)\n",
    "ben.fd(100)"
   ]
  },
  {
   "cell_type": "markdown",
   "metadata": {
    "id": "pIsTYndno_SH"
   },
   "source": [
    "Creatng New Files: File2"
   ]
  },
  {
   "cell_type": "code",
   "execution_count": null,
   "metadata": {
    "id": "4M7mUJxmo_SI"
   },
   "outputs": [],
   "source": [
    "import turtle\n",
    "\n",
    "turtle.pensize(4)\n",
    "turtle.color(\"indigo\")\n",
    "turtle.forward(100)\n",
    "turtle.left(60)\n",
    "turtle.forward(100)\n",
    "turtle.left(60)\n",
    "turtle.forward(100)\n",
    "turtle.left(60)\n",
    "turtle.forward(100)\n",
    "turtle.left(60)\n",
    "turtle.forward(100)\n",
    "turtle.left(60)\n",
    "turtle.forward(100)"
   ]
  },
  {
   "cell_type": "markdown",
   "metadata": {
    "id": "obi24ULwo_SY"
   },
   "source": [
    "Creatng New Files: File3"
   ]
  },
  {
   "cell_type": "code",
   "execution_count": null,
   "metadata": {
    "id": "8u9IQGDko_SZ"
   },
   "outputs": [],
   "source": [
    "import turtle as ben\n",
    "\n",
    "ben.pensize(4)\n",
    "ben.color(\"indigo\")\n",
    "ben.forward(200)\n",
    "ben.left(120)\n",
    "ben.forward(200)\n",
    "ben.left(120)\n",
    "ben.forward(200)\n",
    "\n",
    "ben.color(\"violet\")\n",
    "ben.forward(200)\n",
    "ben.left(120)\n",
    "ben.forward(200)\n",
    "ben.left(120)\n",
    "ben.forward(200)\n",
    "\n",
    "ben.color(\"orange\")\n",
    "ben.forward(200)\n",
    "ben.left(120)\n",
    "ben.forward(200)\n",
    "ben.left(120)\n",
    "ben.forward(200)"
   ]
  },
  {
   "cell_type": "markdown",
   "metadata": {
    "id": "G8yFnGTEo_Sa"
   },
   "source": [
    "Practice:\n",
    "   1. Create a new file and write code to draw a blue triangle and red square with\n",
    "    a seperation of 50 units without connecting lines.\n",
    "    Hint: use penup() and pendown() to up and down your pen."
   ]
  },
  {
   "cell_type": "markdown",
   "metadata": {
    "id": "8cc241FFo_Sa"
   },
   "source": [
    "# 5: FOR LOOPS"
   ]
  },
  {
   "cell_type": "code",
   "execution_count": null,
   "metadata": {
    "id": "WzEJkeePo_Sa"
   },
   "outputs": [],
   "source": [
    "import turtle as ben\n",
    "ben.fd(100)\n",
    "ben.lt(90)\n",
    "ben.fd(100)\n",
    "ben.lt(90)\n",
    "ben.fd(100)\n",
    "ben.lt(90)\n",
    "ben.fd(100)\n",
    "ben.lt(90)"
   ]
  },
  {
   "cell_type": "code",
   "execution_count": null,
   "metadata": {
    "id": "6YbekbKMo_Sb"
   },
   "outputs": [],
   "source": [
    "import turtle as ben\n",
    "\n",
    "for i in range(4):\n",
    "    ben.fd(100)\n",
    "    ben.lt(90)"
   ]
  },
  {
   "cell_type": "code",
   "execution_count": null,
   "metadata": {
    "id": "z8csfDrMo_Sb",
    "outputId": "4764805b-3b4a-45fc-b731-29969e8e7e04"
   },
   "outputs": [
    {
     "name": "stdout",
     "output_type": "stream",
     "text": [
      "0\n",
      "1\n",
      "2\n",
      "3\n",
      "4\n",
      "5\n",
      "6\n",
      "7\n",
      "8\n",
      "9\n"
     ]
    }
   ],
   "source": [
    "for i in range(10):\n",
    "    print(i)"
   ]
  },
  {
   "cell_type": "code",
   "execution_count": null,
   "metadata": {
    "id": "QHbaVkZno_Sc",
    "outputId": "13b2fd85-cb3d-46fa-dcb6-e6995eb41e57",
    "scrolled": true
   },
   "outputs": [
    {
     "name": "stdout",
     "output_type": "stream",
     "text": [
      "1\n",
      "2\n",
      "3\n",
      "4\n",
      "5\n",
      "6\n",
      "7\n",
      "8\n",
      "9\n",
      "10\n",
      "11\n",
      "12\n",
      "13\n",
      "14\n",
      "15\n"
     ]
    }
   ],
   "source": [
    "for i in range(1,16):\n",
    "    print(i)"
   ]
  },
  {
   "cell_type": "markdown",
   "metadata": {
    "id": "KNn9gz0So_Sc"
   },
   "source": [
    "Practice: Create a new file to Print 10 multiples of 2,5,and 9 then draw red circles with radius 2,4,6 etc green circles with radius 5,10,15 etc blue circles with radius 9,18,27 etc Hint: turtle.circle(5) to draw a circle with radius 5\n",
    "\n",
    "(Explan about Control Flow)"
   ]
  },
  {
   "cell_type": "markdown",
   "metadata": {
    "id": "r1i-9Ni6o_Sd"
   },
   "source": [
    "# 6: FOR LOOP SAMPLES"
   ]
  },
  {
   "cell_type": "code",
   "execution_count": null,
   "metadata": {
    "id": "R514s2joo_Sd",
    "outputId": "748dea9c-fa6e-4aa6-f982-a1529c29207b"
   },
   "outputs": [
    {
     "name": "stdout",
     "output_type": "stream",
     "text": [
      "1\n",
      "2\n",
      "3\n",
      "4\n",
      "5\n",
      "6\n",
      "7\n",
      "8\n",
      "9\n",
      "10\n",
      "11\n",
      "12\n",
      "13\n",
      "14\n",
      "15\n",
      "16\n",
      "17\n",
      "18\n",
      "19\n",
      "20\n",
      "21\n",
      "22\n",
      "23\n",
      "24\n",
      "25\n",
      "26\n",
      "27\n",
      "28\n",
      "29\n",
      "30\n",
      "31\n",
      "32\n",
      "33\n",
      "34\n",
      "35\n",
      "36\n",
      "37\n",
      "38\n",
      "39\n",
      "40\n",
      "41\n",
      "42\n",
      "43\n",
      "44\n",
      "45\n",
      "46\n",
      "47\n",
      "48\n",
      "49\n",
      "50\n",
      "51\n",
      "52\n",
      "53\n",
      "54\n",
      "55\n",
      "56\n",
      "57\n",
      "58\n",
      "59\n",
      "60\n",
      "61\n",
      "62\n",
      "63\n",
      "64\n",
      "65\n",
      "66\n",
      "67\n",
      "68\n",
      "69\n",
      "70\n",
      "71\n",
      "72\n",
      "73\n",
      "74\n",
      "75\n",
      "76\n",
      "77\n",
      "78\n",
      "79\n",
      "80\n",
      "81\n",
      "82\n",
      "83\n",
      "84\n",
      "85\n",
      "86\n",
      "87\n",
      "88\n",
      "89\n",
      "90\n",
      "91\n",
      "92\n",
      "93\n",
      "94\n",
      "95\n",
      "96\n",
      "97\n",
      "98\n",
      "99\n",
      "100\n"
     ]
    }
   ],
   "source": [
    "for i in range(1,101):\n",
    "    print(i)"
   ]
  },
  {
   "cell_type": "code",
   "execution_count": null,
   "metadata": {
    "id": "V1xin452o_Se"
   },
   "outputs": [],
   "source": [
    "import turtle as ben\n",
    "\n",
    "ben.pensize(5)\n",
    "ben.speed(4)\n",
    "\n",
    "for num in range(1,6):\n",
    "    print(num)\n",
    "    ben.circle(30)\n",
    "    ben.rt(60)"
   ]
  },
  {
   "cell_type": "code",
   "execution_count": null,
   "metadata": {
    "id": "zMmPVzd9o_Se"
   },
   "outputs": [],
   "source": [
    "#RANGE AS A LIST\n",
    "import turtle as ben\n",
    "\n",
    "ben.pensize(5)\n",
    "ben.speed(4)\n",
    "\n",
    "for i in [\"green\",\"blue\",\"indigo\",\"violet\",\"yellow\"]:\n",
    "    print(i)\n",
    "    ben.color(i)\n",
    "    ben.circle(30)\n",
    "    ben.rt(60)"
   ]
  },
  {
   "cell_type": "code",
   "execution_count": null,
   "metadata": {
    "id": "TBNhtsFZo_Sf"
   },
   "outputs": [],
   "source": [
    "#FOR LOOP INSIDE A FOR LOOP\n",
    "import turtle as ben\n",
    "\n",
    "ben.speed(10)\n",
    "ben.color(\"violet\")\n",
    "ben.pensize(5)\n",
    "\n",
    "for i in range(24):\n",
    "    for j in range(4):\n",
    "        ben.forward(200)\n",
    "        ben.left(90)\n",
    "    ben.left(15)\n",
    "ben.done()"
   ]
  },
  {
   "cell_type": "code",
   "execution_count": null,
   "metadata": {
    "id": "dawCdP5eo_Sk"
   },
   "outputs": [],
   "source": []
  },
  {
   "cell_type": "markdown",
   "metadata": {
    "id": "HBMbzWbYo_Sm"
   },
   "source": [
    "Practice:\n",
    "    Make some wonderful designs with Rainbow Colors(Violet,Indigo,Blue,Green,Yellow,Orange,Red)"
   ]
  },
  {
   "cell_type": "code",
   "execution_count": 2,
   "metadata": {
    "colab": {
     "base_uri": "https://localhost:8080/",
     "height": 135
    },
    "executionInfo": {
     "elapsed": 1956,
     "status": "error",
     "timestamp": 1676494432603,
     "user": {
      "displayName": "ramanand pk",
      "userId": "08927341244266910031"
     },
     "user_tz": 0
    },
    "id": "X5PSZp9Q2RJy",
    "outputId": "efe9a9aa-0bab-4f95-e3ea-9f689413cda1"
   },
   "outputs": [
    {
     "ename": "SyntaxError",
     "evalue": "ignored",
     "output_type": "error",
     "traceback": [
      "\u001b[0;36m  File \u001b[0;32m\"<ipython-input-2-35f6b1ddbb67>\"\u001b[0;36m, line \u001b[0;32m1\u001b[0m\n\u001b[0;31m    print(***1\u001b[0m\n\u001b[0m            ^\u001b[0m\n\u001b[0;31mSyntaxError\u001b[0m\u001b[0;31m:\u001b[0m invalid syntax\n"
     ]
    }
   ],
   "source": [
    "print(***1\n",
    "2\n",
    "3\n",
    "4\n",
    "***5)\n"
   ]
  }
 ],
 "metadata": {
  "colab": {
   "provenance": []
  },
  "kernelspec": {
   "display_name": "Python 3 (ipykernel)",
   "language": "python",
   "name": "python3"
  },
  "language_info": {
   "codemirror_mode": {
    "name": "ipython",
    "version": 3
   },
   "file_extension": ".py",
   "mimetype": "text/x-python",
   "name": "python",
   "nbconvert_exporter": "python",
   "pygments_lexer": "ipython3",
   "version": "3.10.9"
  }
 },
 "nbformat": 4,
 "nbformat_minor": 1
}
